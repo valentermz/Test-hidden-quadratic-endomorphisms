{
 "cells": [
  {
   "cell_type": "markdown",
   "metadata": {
    "deletable": true,
    "editable": true
   },
   "source": [
    "# Compute the hidden relation given speciphic values"
   ]
  },
  {
   "cell_type": "markdown",
   "metadata": {
    "deletable": true,
    "editable": true
   },
   "source": [
    "**Note:** You must have `Macaulay2` installed on your computer for this notebook to work. You can download it from [here](http://www2.macaulay2.com/Macaulay2/). You can consult the *Interface to Macaulay2* documentation [here](http://doc.sagemath.org/html/en/reference/interfaces/sage/interfaces/macaulay2.html)."
   ]
  },
  {
   "cell_type": "markdown",
   "metadata": {
    "deletable": true,
    "editable": true
   },
   "source": [
    "Check if `M2` is installed:"
   ]
  },
  {
   "cell_type": "code",
   "execution_count": 1,
   "metadata": {
    "collapsed": false,
    "deletable": true,
    "editable": true
   },
   "outputs": [
    {
     "name": "stdout",
     "output_type": "stream",
     "text": [
      "(1, 9, 2)\n"
     ]
    }
   ],
   "source": [
    "print macaulay2.version()"
   ]
  },
  {
   "cell_type": "markdown",
   "metadata": {
    "deletable": true,
    "editable": true
   },
   "source": [
    "## Code to compute the hidden relation"
   ]
  },
  {
   "cell_type": "markdown",
   "metadata": {},
   "source": [
    "Code taken from: `m2-code/hidden-source.m2`"
   ]
  },
  {
   "cell_type": "code",
   "execution_count": 2,
   "metadata": {
    "collapsed": true
   },
   "outputs": [],
   "source": [
    "L = var('L')"
   ]
  },
  {
   "cell_type": "code",
   "execution_count": 3,
   "metadata": {
    "collapsed": false,
    "deletable": true,
    "editable": true
   },
   "outputs": [],
   "source": [
    "M2code = \"\"\"Disc = (-4)*(t_2^2*d_0*d_1-2*t_2*t_3*d_0*d_1+t_3^2*d_0*d_1+t_1^2*d_0*d_2-2*t_1*t_3*d_0*d_2+t_3^2*d_0*d_2+t_0^2*d_1*d_2-2*t_0*t_3*d_1*d_2+t_3^2*d_1*d_2+t_1^2*d_0*d_3-2*t_1*t_2*d_0*d_3+t_2^2*d_0*d_3+t_0^2*d_1*d_3-2*t_0*t_2*d_1*d_3+t_2^2*d_1*d_3+t_0^2*d_2*d_3-2*t_0*t_1*d_2*d_3+t_1^2*d_2*d_3)\n",
    "Z = ideal(X^2 - Disc)\n",
    "A_0 = (-t_2^2*d_0*d_1+2*t_2*t_3*d_0*d_1-t_3^2*d_0*d_1-t_0*t_1*d_0*d_2+t_0*t_3*d_0*d_2+t_1*t_3*d_0*d_2-t_3^2*d_0*d_2-t_0^2*d_1*d_2+2*t_0*t_3*d_1*d_2-t_3^2*d_1*d_2-t_0*t_1*d_0*d_3+t_0*t_2*d_0*d_3+t_1*t_2*d_0*d_3-t_2^2*d_0*d_3-t_0^2*d_1*d_3+2*t_0*t_2*d_1*d_3-t_2^2*d_1*d_3)/(t_2^2*d_0*d_1-2*t_2*t_3*d_0*d_1+t_3^2*d_0*d_1+t_0^2*d_1*d_2-2*t_0*t_3*d_1*d_2+t_3^2*d_1*d_2+t_0^2*d_1*d_3-2*t_0*t_2*d_1*d_3+t_2^2*d_1*d_3)\n",
    "A_1 = -(t_2*d_0-t_3*d_0)/(2*t_2^2*d_0*d_1-4*t_2*t_3*d_0*d_1+2*t_3^2*d_0*d_1+2*t_0^2*d_1*d_2-4*t_0*t_3*d_1*d_2+2*t_3^2*d_1*d_2+2*t_0^2*d_1*d_3-4*t_0*t_2*d_1*d_3+2*t_2^2*d_1*d_3)\n",
    "B_0 = (-t_0*t_2*d_0*d_1+t_0*t_3*d_0*d_1+t_2*t_3*d_0*d_1-t_3^2*d_0*d_1-t_1^2*d_0*d_2+2*t_1*t_3*d_0*d_2-t_3^2*d_0*d_2-t_0^2*d_1*d_2+2*t_0*t_3*d_1*d_2-t_3^2*d_1*d_2+t_0*t_1*d_0*d_3-t_1^2*d_0*d_3-t_0*t_2*d_0*d_3+t_1*t_2*d_0*d_3-t_0^2*d_2*d_3+2*t_0*t_1*d_2*d_3-t_1^2*d_2*d_3)/(t_1^2*d_0*d_2-2*t_1*t_3*d_0*d_2+t_3^2*d_0*d_2+t_0^2*d_1*d_2-2*t_0*t_3*d_1*d_2+t_3^2*d_1*d_2+t_0^2*d_2*d_3-2*t_0*t_1*d_2*d_3+t_1^2*d_2*d_3)\n",
    "B_1 = (t_1*d_0-t_3*d_0)/(2*t_1^2*d_0*d_2-4*t_1*t_3*d_0*d_2+2*t_3^2*d_0*d_2+2*t_0^2*d_1*d_2-4*t_0*t_3*d_1*d_2+2*t_3^2*d_1*d_2+2*t_0^2*d_2*d_3-4*t_0*t_1*d_2*d_3+2*t_1^2*d_2*d_3)\n",
    "a = A_0 + X*A_1\n",
    "b = B_0 + X*B_1\n",
    "T_0 = t_0\n",
    "T_1 = t_1*(a+1)\n",
    "T_2 = t_2*(b+1)\n",
    "D_0 = d_0\n",
    "D_1 = d_1*(a+1)^2 % Z\n",
    "D_2 = d_2*(b+1)^2 % Z\n",
    "Eq_0 = T_0 - (-c_0-c_5)\n",
    "Eq_1 = T_1 - (c_0+c_4-c_5)\n",
    "Eq_2 = T_2 - (-c_0+c_1+c_5)\n",
    "Eq_3 = D_0 - (-c_2*c_3+c_0*c_5)\n",
    "Eq_4 = D_1 - (-c_1*c_3+c_2*c_3+c_0*c_4-c_0*c_5)\n",
    "Eq_5 = D_2 - (c_2*c_3-c_2*c_4-c_0*c_5+c_1*c_5)\n",
    "Eq_6 = L*(-c_0^2*c_1^2 + 4*c_0^3*c_2 + 27*c_2^2*c_3^2 - 4*c_2*c_4^3 + 4*c_3*c_5^3 - (c_1^2 - 12*c_0*c_2)*c_4^2 - (c_0^2 + 12*c_1*c_3 - 2*c_0*c_4 + c_4^2)*c_5^2 - 2*(2*c_1^3 - 9*c_0*c_1*c_2)*c_3 + 2*(c_0*c_1^2 - 6*c_0^2*c_2 - 9*c_1*c_2*c_3)*c_4 + 2*(c_0^2*c_1 + c_1*c_4^2 + 3*(2*c_1^2 - 3*c_0*c_2)*c_3 - (2*c_0*c_1 - 9*c_2*c_3)*c_4)*c_5) - (c_2^2*c_3^2 - c_1*c_2*c_3*c_4 + c_0*c_2*c_4^2 + c_0^2*c_5^2 - (c_0*c_1*c_4 - (c_1^2 - 2*c_0*c_2)*c_3)*c_5)\n",
    "J = ideal(Eq_0,Eq_1,Eq_2,Eq_3,Eq_4,Eq_5,Eq_6) + Z\n",
    "I = eliminate({c_0,c_1,c_2,c_3,c_4,c_5}, J)\n",
    "GB = gens I\n",
    "H = GB_(0,0)\n",
    "u = sub(H, X=>0)\n",
    "v = sub(diff(X,H), X=>0)\n",
    "g = gens ideal(u^2 - (v^2)*Disc)\n",
    "h = factor g_(0,0)\"\"\""
   ]
  },
  {
   "cell_type": "markdown",
   "metadata": {},
   "source": [
    "Define a function that will compute the hidden relation $h\\in\\mathbb{Q}[\\Lambda]$ from a list of values `[t_0, t_1, t_2, t_3, d_0, d_1, d_2, d_3]`"
   ]
  },
  {
   "cell_type": "code",
   "execution_count": 4,
   "metadata": {
    "collapsed": true,
    "deletable": true,
    "editable": true
   },
   "outputs": [],
   "source": [
    "def compute_hidden(vals):\n",
    "    \"\"\"Given a list vals = [t_0, ..., d_3], compute the hidden relation H(L)\"\"\"\n",
    "    \n",
    "    # Declare R to be a polynomial ring\n",
    "    macaulay2(r'R = QQ[c_0..c_5, T_0..T_2,D_0..D_2, a_0,a_1,b_0,b_1,X, L, MonomialOrder=>{6,6,6}]')\n",
    "\n",
    "    # Feed values for the traces\n",
    "    for k in range(4):\n",
    "        t_value = 't_{}'.format(k) + '=' + str(vals[k])\n",
    "        macaulay2(t_value)\n",
    "\n",
    "    # Feed values for the determinant\n",
    "    for k in range(4):\n",
    "        d_value = 'd_{}'.format(k) + '=' + str(vals[k+4])\n",
    "        macaulay2(d_value)\n",
    "        \n",
    "    # Send 'M2code' to Macaulay2 process\n",
    "    for line in M2code.split('\\n'):\n",
    "        macaulay2(line)\n",
    "    \n",
    "    # Recover h back to Sage\n",
    "    global L\n",
    "    h_str = macaulay2('toString h')\n",
    "    h = sage_eval(h_str.to_sage(), locals={'L': L})\n",
    "    \n",
    "    macaulay2('restart')\n",
    "    \n",
    "    return h"
   ]
  },
  {
   "cell_type": "markdown",
   "metadata": {
    "deletable": true,
    "editable": true
   },
   "source": [
    "### Define values for $t_k,d_k$"
   ]
  },
  {
   "cell_type": "code",
   "execution_count": 5,
   "metadata": {
    "collapsed": true,
    "deletable": true,
    "editable": true
   },
   "outputs": [],
   "source": [
    "t_0 = 1/3\n",
    "t_1 = 2/5\n",
    "t_2 = -1/4\n",
    "t_3 = 7/3\n",
    "d_0 = -1/5\n",
    "d_1 = 3/11\n",
    "d_2 = -3/5\n",
    "d_3 = 4/7\n",
    "\n",
    "values = [t_0, t_1, t_2, t_3, d_0, d_1, d_2, d_3]"
   ]
  },
  {
   "cell_type": "markdown",
   "metadata": {},
   "source": [
    "### Evaluate `compute_hidden`"
   ]
  },
  {
   "cell_type": "code",
   "execution_count": 6,
   "metadata": {
    "collapsed": false
   },
   "outputs": [
    {
     "data": {
      "text/plain": [
       "1615439998099029479835158351890805011652285515493279511259342699679251310428427872905823711262554852681213861875889*L^4 - 2801183820277867774629298435260111521110279301830275338605324024920762673692804035747823835309394336604322101782400*L^3 - 636068346367009465273595425833878351883543334740431827825049413149474020946510243453991333606936936678139450880000*L^2 - 45190815024041791696849106191311375842408838564985196340152129093734190141658778554973396213926679652794368000000*L - 1046832117261386288835499026251997879758856853321822005038232008327867082725334408878763661123405008076800000000"
      ]
     },
     "execution_count": 6,
     "metadata": {},
     "output_type": "execute_result"
    }
   ],
   "source": [
    "compute_hidden(values)"
   ]
  }
 ],
 "metadata": {
  "kernelspec": {
   "display_name": "SageMath 8.1",
   "language": "",
   "name": "sagemath"
  },
  "language_info": {
   "codemirror_mode": {
    "name": "ipython",
    "version": 2
   },
   "file_extension": ".py",
   "mimetype": "text/x-python",
   "name": "python",
   "nbconvert_exporter": "python",
   "pygments_lexer": "ipython2",
   "version": "2.7.14"
  }
 },
 "nbformat": 4,
 "nbformat_minor": 2
}
